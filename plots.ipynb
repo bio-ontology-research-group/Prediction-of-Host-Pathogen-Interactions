{
 "cells": [
  {
   "cell_type": "markdown",
   "metadata": {},
   "source": [
    "## TPR by normalized rank curve"
   ]
  },
  {
   "cell_type": "code",
   "execution_count": null,
   "metadata": {},
   "outputs": [],
   "source": [
    "import pickle\n",
    "import numpy as np\n",
    "rank_stats = {}\n",
    "taxon = 'virus'\n",
    "with open('stats/rank_stats_GO_' + taxon + '.pckl','rb') as f:\n",
    "    rank_stats['go'] = pickle.load(f)\n",
    "with open('stats/rank_stats_HP_' + taxon + '.pckl','rb') as f:\n",
    "    rank_stats['hp'] = pickle.load(f)\n",
    "with open('stats/rank_stats_MP_' + taxon + '.pckl','rb') as f:\n",
    "    rank_stats['mp'] = pickle.load(f)\n",
    "with open('stats/rank_stats_HPiMPiGO_' + taxon + '.pckl','rb') as f:\n",
    "    rank_stats['hpimpigo'] = pickle.load(f)\n",
    "with open('stats/rank_stats_HPuMPuGO_' + taxon + '.pckl','rb') as f:\n",
    "    rank_stats['hpumpugo'] = pickle.load(f)"
   ]
  },
  {
   "cell_type": "code",
   "execution_count": null,
   "metadata": {},
   "outputs": [],
   "source": [
    "%matplotlib inline\n",
    "\n",
    "import matplotlib.pyplot as plt\n",
    "plt.style.use('seaborn-whitegrid')\n",
    "\n",
    "x_dict = {'go':[], 'hp':[], 'mp':[], 'hpimpigo':[], 'hpumpugo':[]}\n",
    "y_dict = {'go':[], 'hp':[], 'mp':[], 'hpimpigo':[], 'hpumpugo':[]}\n",
    "\n",
    "max_auc = {'go':0, 'hp':0, 'mp':0, 'hpimpigo':0, 'hpumpugo':0}\n",
    "\n",
    "for experiment in max_auc.keys():\n",
    "    print(experiment)\n",
    "    rank_counts = []\n",
    "    epochs = 200\n",
    "    for i in range(epochs):\n",
    "        rank_counts.append(dict())\n",
    "    for i in range(epochs):\n",
    "        for patho, ranks in rank_stats[experiment][1][i].items():\n",
    "            for rank in ranks:\n",
    "                if rank not in rank_counts[i]:\n",
    "                    rank_counts[i][rank] = 0\n",
    "                rank_counts[i][rank]+=1\n",
    "        auc_x = list(rank_counts[i].keys())\n",
    "        auc_x.sort()\n",
    "        auc_y = []\n",
    "        tpr = 0\n",
    "        step = 1/sum(rank_counts[i].values())\n",
    "        for x in auc_x:\n",
    "            tpr += rank_counts[i][x]*step\n",
    "            auc_y.append(tpr)\n",
    "        auc_x.append(rank_stats[experiment][0])\n",
    "        auc_y.append(1)\n",
    "        auc = np.trapz(auc_y, auc_x)/rank_stats[experiment][0]\n",
    "        if auc > max_auc[experiment]:\n",
    "            max_auc[experiment] = auc\n",
    "            x_dict[experiment] = np.array(auc_x)/rank_stats[experiment][0]\n",
    "            y_dict[experiment] = auc_y\n",
    "            print('Rank based auc is: %f' % (auc)) "
   ]
  },
  {
   "cell_type": "code",
   "execution_count": null,
   "metadata": {},
   "outputs": [],
   "source": [
    "fig=plt.figure(figsize=(4, 4), dpi= 200)\n",
    "plt.plot(x_dict['go'], y_dict['go'], label = 'GO (AUC=' + '%.3f)' % max_auc['go'])\n",
    "plt.plot(x_dict['hp'], y_dict['hp'], label = 'HP (AUC=' + '%.3f)' % max_auc['hp'])\n",
    "plt.plot(x_dict['mp'], y_dict['mp'], label = 'MP (AUC=' + '%.3f)' % max_auc['mp'])\n",
    "plt.plot(x_dict['hpimpigo'], y_dict['hpimpigo'], label = 'HP$\\cap$MP$\\cap$GO (AUC=' + '%.3f)' % max_auc['hpimpigo'])\n",
    "plt.plot(x_dict['hpumpugo'], y_dict['hpumpugo'], label = r'HP$\\cup$MP$\\cup$GO (AUC=' + '%.3f)' % max_auc['hpumpugo'])\n",
    "plt.plot([0, 1], [0, 1], '--', label = 'Random (AUC= 0.50)')\n",
    "plt.legend()\n",
    "plt.xlabel('Normalized rank')\n",
    "plt.ylabel('TPR')\n",
    "plt.axis('scaled')\n",
    "plt.show()"
   ]
  },
  {
   "cell_type": "markdown",
   "metadata": {},
   "source": [
    "## AUC-Epoch curve"
   ]
  },
  {
   "cell_type": "code",
   "execution_count": null,
   "metadata": {},
   "outputs": [],
   "source": [
    "import pickle\n",
    "import numpy as np\n",
    "rank_stats = {}\n",
    "taxon = 'virus'\n",
    "with open('stats/rank_stats_GO_' + taxon + '.pckl','rb') as f:\n",
    "    rank_stats['go'] = pickle.load(f)\n",
    "with open('stats/rank_stats_HP_' + taxon + '.pckl','rb') as f:\n",
    "    rank_stats['hp'] = pickle.load(f)\n",
    "with open('stats/rank_stats_MP_' + taxon + '.pckl','rb') as f:\n",
    "    rank_stats['mp'] = pickle.load(f)\n",
    "with open('stats/rank_stats_HPiMPiGO_' + taxon + '.pckl','rb') as f:\n",
    "    rank_stats['hpimpigo'] = pickle.load(f)\n",
    "with open('stats/rank_stats_HPuMPuGO_' + taxon + '.pckl','rb') as f:\n",
    "    rank_stats['hpumpugo'] = pickle.load(f)"
   ]
  },
  {
   "cell_type": "code",
   "execution_count": null,
   "metadata": {},
   "outputs": [],
   "source": [
    "%matplotlib inline\n",
    "\n",
    "import matplotlib.pyplot as plt\n",
    "plt.style.use('seaborn-whitegrid')\n",
    "\n",
    "auc_dict = {'go':[], 'hp':[], 'mp':[], 'hpimpigo':[], 'hpumpugo':[]}\n",
    "epoch_dict = {'go':[], 'hp':[], 'mp':[], 'hpimpigo':[], 'hpumpugo':[]}\n",
    "\n",
    "max_auc = {'go':0, 'hp':0, 'mp':0, 'hpimpigo':0, 'hpumpugo':0}\n",
    "\n",
    "for experiment in max_auc.keys():\n",
    "    print(experiment)\n",
    "    rank_counts = []\n",
    "    epochs = 200\n",
    "    for i in range(epochs):\n",
    "        rank_counts.append(dict())\n",
    "    for i in range(epochs):\n",
    "        for patho, ranks in rank_stats[experiment][1][i].items():\n",
    "            for rank in ranks:\n",
    "                if rank not in rank_counts[i]:\n",
    "                    rank_counts[i][rank] = 0\n",
    "                rank_counts[i][rank]+=1\n",
    "        auc_x = list(rank_counts[i].keys())\n",
    "        auc_x.sort()\n",
    "        auc_y = []\n",
    "        tpr = 0\n",
    "        step = 1/sum(rank_counts[i].values())\n",
    "        for x in auc_x:\n",
    "            tpr += rank_counts[i][x]*step\n",
    "            auc_y.append(tpr)\n",
    "        auc_x.append(rank_stats[experiment][0])\n",
    "        auc_y.append(1)\n",
    "        auc = np.trapz(auc_y, auc_x)/rank_stats[experiment][0]\n",
    "        auc_dict[experiment].append(auc)\n",
    "        epoch_dict[experiment].append(i)"
   ]
  },
  {
   "cell_type": "code",
   "execution_count": null,
   "metadata": {},
   "outputs": [],
   "source": [
    "fig=plt.figure(figsize=(4, 4), dpi= 200)\n",
    "plt.plot(epoch_dict['go'], auc_dict['go'], label = 'GO')\n",
    "plt.plot(epoch_dict['hp'], auc_dict['hp'], label = 'HP')\n",
    "plt.plot(epoch_dict['mp'], auc_dict['mp'], label = 'MP')\n",
    "plt.plot(epoch_dict['hpimpigo'], auc_dict['hpimpigo'], label = 'HP$\\cap$MP$\\cap$GO')\n",
    "plt.plot(epoch_dict['hpumpugo'], auc_dict['hpumpugo'], label = 'HP$\\cup$MP$\\cup$GO')\n",
    "plt.legend(loc='lower right')\n",
    "plt.xlabel('Epochs')\n",
    "plt.ylabel('AUC')\n",
    "#plt.axis('scaled')\n",
    "plt.show()"
   ]
  }
 ],
 "metadata": {
  "kernelspec": {
   "display_name": "Python 3",
   "language": "python",
   "name": "python3"
  },
  "language_info": {
   "codemirror_mode": {
    "name": "ipython",
    "version": 3
   },
   "file_extension": ".py",
   "mimetype": "text/x-python",
   "name": "python",
   "nbconvert_exporter": "python",
   "pygments_lexer": "ipython3",
   "version": "3.6.4"
  }
 },
 "nbformat": 4,
 "nbformat_minor": 2
}
