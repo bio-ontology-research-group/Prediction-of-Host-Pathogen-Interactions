{
 "cells": [
  {
   "cell_type": "markdown",
   "metadata": {},
   "source": [
    "## Extracting the entrez gene IDs in HPIDB"
   ]
  },
  {
   "cell_type": "code",
   "execution_count": null,
   "metadata": {},
   "outputs": [],
   "source": [
    "output = open('data/hpidb2_entrez_list.txt', 'w')\n",
    "with open('data/hpidb2.mitab.txt', 'r', encoding ='ISO-8859-1') as f:\n",
    "    for line in f:\n",
    "        items = line.strip().split('\\t')\n",
    "        if '9606' not in items[9]:\n",
    "            continue\n",
    "        if 'entrez' in items[0]:\n",
    "            entrez = items[0].split('locuslink:')[1]\n",
    "            output.write(entrez + '\\n')\n",
    "output.close()"
   ]
  },
  {
   "cell_type": "markdown",
   "metadata": {},
   "source": [
    "## After converting entrez to uniprot ids, making a dict from entrez to uniprot"
   ]
  },
  {
   "cell_type": "code",
   "execution_count": null,
   "metadata": {},
   "outputs": [],
   "source": [
    "entrez2uniprot = {}\n",
    "with open('data/hpidb2_entrez_list_uniprot.txt', 'r') as f:\n",
    "    next(f)\n",
    "    for line in f:\n",
    "        items = line.strip().split()\n",
    "        if items[3] != \"reviewed\":\n",
    "            continue\n",
    "        if ',' not in items[0]:\n",
    "            entrez = items[0]\n",
    "            if entrez not in entrez2uniprot:\n",
    "                entrez2uniprot[entrez] = set()\n",
    "            entrez2uniprot[entrez].add(items[1])\n",
    "        else:\n",
    "            for entrez in items[0].split(','):\n",
    "                if entrez not in entrez2uniprot:\n",
    "                    entrez2uniprot[entrez] = set()\n",
    "                entrez2uniprot[entrez].add(items[1])\n",
    "print(len(entrez2uniprot))"
   ]
  },
  {
   "cell_type": "markdown",
   "metadata": {},
   "source": [
    "## Generating the hpidb2.score.txt file used in train.ipynb"
   ]
  },
  {
   "cell_type": "code",
   "execution_count": null,
   "metadata": {},
   "outputs": [],
   "source": [
    "hpidb_uniprots = set()\n",
    "output = open('data/hpidb2.score.txt', 'w')\n",
    "with open('data/hpidb2.mitab.txt', 'r', encoding ='ISO-8859-1') as f:\n",
    "    for line in f:\n",
    "        items = line.strip().split('\\t')\n",
    "        if '9606' not in items[9] or '-' == items[len(items)-1]:\n",
    "            continue\n",
    "        taxon = items[10].split('(')[0].split(':')[1]\n",
    "        if 'uniprotkb:' in items[0]:\n",
    "            uniprot = items[0].split('uniprotkb:')[1]\n",
    "            if '-' in uniprot: # Checking the isoforms\n",
    "                if '-1' in uniprot:\n",
    "                    uniprot = uniprot.split('-1')[0]\n",
    "                else:\n",
    "                    continue\n",
    "            output.write('%s\\t%s\\t%s\\n' % (uniprot, taxon, items[len(items)-1])) # with score\n",
    "            hpidb_uniprots.add(uniprot)\n",
    "        elif 'entrez' in items[0]:\n",
    "            entrez = items[0].split('locuslink:')[1]\n",
    "            if entrez in entrez2uniprot:\n",
    "                for uniprot in entrez2uniprot[entrez]:\n",
    "                    output.write('%s\\t%s\\t%s\\n' % (uniprot, taxon, items[len(items)-1])) # with score\n",
    "                    hpidb_uniprots.add(uniprot)\n",
    "output.close()"
   ]
  }
 ],
 "metadata": {
  "kernelspec": {
   "display_name": "Python 3",
   "language": "python",
   "name": "python3"
  },
  "language_info": {
   "codemirror_mode": {
    "name": "ipython",
    "version": 3
   },
   "file_extension": ".py",
   "mimetype": "text/x-python",
   "name": "python",
   "nbconvert_exporter": "python",
   "pygments_lexer": "ipython3",
   "version": "3.6.4"
  }
 },
 "nbformat": 4,
 "nbformat_minor": 2
}
