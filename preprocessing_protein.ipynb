{
 "cells": [
  {
   "cell_type": "markdown",
   "metadata": {},
   "source": [
    "## Extracting Entrez IDs from HPO and MGI annotations for mapping to Uniprot IDs"
   ]
  },
  {
   "cell_type": "code",
   "execution_count": null,
   "metadata": {},
   "outputs": [],
   "source": [
    "output = open('phenotype_entrez.txt', 'w')\n",
    "with open('HMD_HumanPhenotype.rpt', 'r') as f:\n",
    "    for line in f:\n",
    "        items = line.strip().split('\\t')\n",
    "        output.write(items[1].strip() + '\\n')\n",
    "with open('ALL_SOURCES_ALL_FREQUENCIES_genes_to_phenotype.txt', 'r') as f:\n",
    "    next(f)\n",
    "    for line in f:\n",
    "        items = line.strip().split('\\t')\n",
    "        output.write(items[0] + '\\n')\n",
    "output.close()\n",
    "# Then convert entrez to uniprot online"
   ]
  },
  {
   "cell_type": "code",
   "execution_count": null,
   "metadata": {},
   "outputs": [],
   "source": [
    "entrez2uniprot = {}\n",
    "with open('phenotype_entrez2uniprot.txt', 'r') as f:\n",
    "    next(f)\n",
    "    for line in f:\n",
    "        items = line.strip().split('\\t')\n",
    "        if items[3] != \"reviewed\":\n",
    "            continue\n",
    "        if ',' not in items[0]:\n",
    "            entrez = items[0]\n",
    "            if entrez not in entrez2uniprot:\n",
    "                entrez2uniprot[entrez] = set()\n",
    "            entrez2uniprot[entrez].add(items[1])\n",
    "        else:\n",
    "            for entrez in items[0].split(','):\n",
    "                if entrez not in entrez2uniprot:\n",
    "                    entrez2uniprot[entrez] = set()\n",
    "                entrez2uniprot[entrez].add(items[1])\n",
    "print(len(entrez2uniprot))"
   ]
  },
  {
   "cell_type": "markdown",
   "metadata": {},
   "source": [
    "## Mapping mouse gene phenotypes to their human orthologs"
   ]
  },
  {
   "cell_type": "code",
   "execution_count": null,
   "metadata": {},
   "outputs": [],
   "source": [
    "human_dict = {}\n",
    "mouse_dict = {}\n",
    "mouse_input = 'MGI_GenePheno.rpt'\n",
    "human_input = 'HMD_HumanPhenotype.rpt'"
   ]
  },
  {
   "cell_type": "code",
   "execution_count": null,
   "metadata": {},
   "outputs": [],
   "source": [
    "with open(mouse_input, 'r') as f:\n",
    "    for line in f:\n",
    "        items = line.strip().split('\\t')\n",
    "        pheno = items[4]\n",
    "        gene = items[6]\n",
    "        if gene not in mouse_dict:\n",
    "            mouse_dict[gene] = set()\n",
    "        mouse_dict[gene].add(pheno)\n",
    "print(len(mouse_dict))"
   ]
  },
  {
   "cell_type": "code",
   "execution_count": null,
   "metadata": {},
   "outputs": [],
   "source": [
    "mouse_genes = set()\n",
    "with open(human_input, 'r') as f:\n",
    "    for line in f:\n",
    "        items = line.strip().split('\\t')\n",
    "        mouse_gene = items[5].strip()\n",
    "        entrez = items[1].strip()\n",
    "        if entrez not in entrez2uniprot:\n",
    "            continue\n",
    "        uniprots = entrez2uniprot[entrez]\n",
    "        for human_gene in uniprots:\n",
    "            if human_gene not in human_dict and mouse_gene in mouse_dict:\n",
    "                human_dict[human_gene] = set()\n",
    "                mouse_genes.add(human_gene)\n",
    "            if human_gene in human_dict and mouse_gene in mouse_dict:\n",
    "                human_dict[human_gene] = human_dict[human_gene] | mouse_dict[mouse_gene]\n",
    "print(len(human_dict))"
   ]
  },
  {
   "cell_type": "markdown",
   "metadata": {},
   "source": [
    "## Getting HPO annotations of human proteins"
   ]
  },
  {
   "cell_type": "code",
   "execution_count": null,
   "metadata": {},
   "outputs": [],
   "source": [
    "human_genes = set()\n",
    "with open('ALL_SOURCES_ALL_FREQUENCIES_genes_to_phenotype.txt', 'r') as f:\n",
    "    next(f)\n",
    "    for line in f:\n",
    "        items = line.strip().split('\\t')\n",
    "        entrez = items[0]\n",
    "        if entrez not in entrez2uniprot:\n",
    "            continue\n",
    "        uniprots = entrez2uniprot[entrez]\n",
    "        for human_gene in uniprots:\n",
    "            human_genes.add(human_gene)\n",
    "            hp_term = items[3]\n",
    "            if human_gene not in human_dict:\n",
    "                human_dict[human_gene] = set()\n",
    "            human_dict[human_gene].add(hp_term)\n",
    "print(len(human_genes))"
   ]
  },
  {
   "cell_type": "markdown",
   "metadata": {},
   "source": [
    "## Getting GO annotations of human proteins"
   ]
  },
  {
   "cell_type": "code",
   "execution_count": null,
   "metadata": {},
   "outputs": [],
   "source": [
    "go_genes = set()\n",
    "go_dict = {}\n",
    "with open('goa_human.gaf', 'r') as f:\n",
    "    for line in f:\n",
    "        if line[0] == '!':\n",
    "            continue\n",
    "        items = line.strip().split('\\t')\n",
    "        if items[6] == 'IEA':\n",
    "            continue\n",
    "        idx = items[4].split(':')[1]\n",
    "        go = \"<http://purl.obolibrary.org/obo/GO_\" + idx + '>'\n",
    "        if items[1] not in go_dict:\n",
    "            go_dict[items[1]] = set()\n",
    "        go_dict[items[1]].add(go)\n",
    "        go_genes.add(items[1])\n",
    "print(len(go_dict), len(go_genes))"
   ]
  },
  {
   "cell_type": "code",
   "execution_count": null,
   "metadata": {},
   "outputs": [],
   "source": [
    "intersect = (mouse_genes & human_genes) & go_genes\n",
    "print(len(intersect))\n",
    "removal = set()\n",
    "removal.add('MP:0002169')"
   ]
  },
  {
   "cell_type": "code",
   "execution_count": null,
   "metadata": {},
   "outputs": [],
   "source": [
    "output_file = 'human_pheno_asso_HPiMPiGO.txt'\n",
    "with open(output_file, 'w') as f:\n",
    "    for key, phenos in human_dict.items():\n",
    "        if key not in intersect:\n",
    "            continue\n",
    "        for pheno in phenos:\n",
    "            if pheno in removal:\n",
    "                continue\n",
    "            parts = pheno.split(':')\n",
    "            pheno = \"<http://purl.obolibrary.org/obo/\" + parts[0] + '_' + parts[1] + '>'\n",
    "            f.write('%s %s\\n' % (key, pheno))\n",
    "    for uniprot, gos in go_dict.items():\n",
    "        if uniprot not in intersect:\n",
    "            continue\n",
    "        for go in gos:\n",
    "            f.write('%s %s\\n' % (uniprot, go))"
   ]
  }
 ],
 "metadata": {
  "kernelspec": {
   "display_name": "Python 3",
   "language": "python",
   "name": "python3"
  },
  "language_info": {
   "codemirror_mode": {
    "name": "ipython",
    "version": 3
   },
   "file_extension": ".py",
   "mimetype": "text/x-python",
   "name": "python",
   "nbconvert_exporter": "python",
   "pygments_lexer": "ipython3",
   "version": "3.6.4"
  }
 },
 "nbformat": 4,
 "nbformat_minor": 2
}
