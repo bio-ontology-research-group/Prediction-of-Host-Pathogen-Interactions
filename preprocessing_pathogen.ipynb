{
 "cells": [
  {
   "cell_type": "markdown",
   "metadata": {},
   "source": [
    "## Extracting taxonomic groups from NCBITaxon"
   ]
  },
  {
   "cell_type": "code",
   "execution_count": null,
   "metadata": {},
   "outputs": [],
   "source": [
    "bacteria = set()\n",
    "virus = set()\n",
    "fungi = set()\n",
    "species_dict = {}\n",
    "with open('categories.dmp', 'r') as f:\n",
    "    for line in f:\n",
    "        items = line.strip().split('\\t')\n",
    "        species_dict['<http://purl.obolibrary.org/obo/NCBITaxon_'+items[2]+'>'] = '<http://purl.obolibrary.org/obo/NCBITaxon_' + items[1]+'>'\n",
    "        if items[0] == 'B':\n",
    "            bacteria.add('<http://purl.obolibrary.org/obo/NCBITaxon_'+items[2]+'>')\n",
    "        elif items[0] == 'V':\n",
    "            virus.add('<http://purl.obolibrary.org/obo/NCBITaxon_'+items[2]+'>')\n",
    "        elif items[0] == 'E':\n",
    "            fungi.add('<http://purl.obolibrary.org/obo/NCBITaxon_'+items[2]+'>')\n",
    "print(len(bacteria), len(virus), len(fungi), len(species_dict))"
   ]
  },
  {
   "cell_type": "markdown",
   "metadata": {},
   "source": [
    "## Generating a dict of pathogen phenotypes from PathoPhenoDB"
   ]
  },
  {
   "cell_type": "code",
   "execution_count": null,
   "metadata": {},
   "outputs": [],
   "source": [
    "patho_input = 'patho_pheno.nt'\n",
    "\n",
    "dis_pato = {}\n",
    "dis_pheno = {}\n",
    "patho_dis = {}\n",
    "pheno_dis = {}\n",
    "with open(patho_input, 'r') as f:\n",
    "    for line in f:\n",
    "        items = line.strip().split()\n",
    "        if 'SIO_000255' in items[1]:\n",
    "            if 'dis_pato' in items[2]:\n",
    "                if items[0] in dis_pato:\n",
    "                    print('wrong!')\n",
    "                dis_pato[items[2]] = items[0]\n",
    "            if 'dis_pheno' in items[2]:\n",
    "                if items[0] not in dis_pheno:\n",
    "                    dis_pheno[items[0]] = set()\n",
    "                dis_pheno[items[0]].add(items[2])\n",
    "        if 'RO_0002556' in items[1]:\n",
    "            if 'dis_pato' in items[0]:\n",
    "                if items[2] not in patho_dis:\n",
    "                    patho_dis[items[2]] = set()\n",
    "                patho_dis[items[2]].add(items[0])\n",
    "        if 'RO_0002200' in items[1]:\n",
    "            if 'dis_pheno' in items[0]:\n",
    "                if items[0] in pheno_dis:\n",
    "                    print('wrong!')\n",
    "                pheno_dis[items[0]] = items[2]\n",
    "print(len(dis_pato), len(dis_pheno), len(patho_dis), len(pheno_dis))"
   ]
  },
  {
   "cell_type": "code",
   "execution_count": null,
   "metadata": {},
   "outputs": [],
   "source": [
    "pheno_dict = {}\n",
    "for patho, assos in patho_dis.items():\n",
    "    if patho not in pheno_dict:\n",
    "        pheno_dict[patho] = set()\n",
    "    for asso in assos:\n",
    "        disease = dis_pato[asso]\n",
    "        if disease in dis_pheno:\n",
    "            for pheno in dis_pheno[disease]:\n",
    "                phenotype = pheno_dis[pheno]\n",
    "                pheno_dict[patho].add(phenotype)"
   ]
  },
  {
   "cell_type": "markdown",
   "metadata": {},
   "source": [
    "## Saving the dict into a file for OPA2Vec"
   ]
  },
  {
   "cell_type": "code",
   "execution_count": null,
   "metadata": {},
   "outputs": [],
   "source": [
    "with open('patho_pheno_asso.txt', 'w') as f:\n",
    "    for patho, phenos in pheno_dict.items():\n",
    "        for pheno in phenos:\n",
    "            f.write('%s %s\\n' % (patho, pheno))\n",
    "        if patho in species_dict: # has species level \n",
    "            taxon = species_dict[patho]\n",
    "            for pheno in phenos:\n",
    "                f.write('%s %s\\n' % (taxon, pheno))"
   ]
  }
 ],
 "metadata": {
  "kernelspec": {
   "display_name": "Python 3",
   "language": "python",
   "name": "python3"
  },
  "language_info": {
   "codemirror_mode": {
    "name": "ipython",
    "version": 3
   },
   "file_extension": ".py",
   "mimetype": "text/x-python",
   "name": "python",
   "nbconvert_exporter": "python",
   "pygments_lexer": "ipython3",
   "version": "3.6.4"
  }
 },
 "nbformat": 4,
 "nbformat_minor": 2
}
